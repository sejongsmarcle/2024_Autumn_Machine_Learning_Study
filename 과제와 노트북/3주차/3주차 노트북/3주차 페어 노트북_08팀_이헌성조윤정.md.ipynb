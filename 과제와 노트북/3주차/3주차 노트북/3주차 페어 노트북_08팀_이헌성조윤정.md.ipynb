{
 "cells": [
  {
   "cell_type": "code",
   "execution_count": null,
   "id": "81dd8f8e",
   "metadata": {},
   "outputs": [],
   "source": [
    "\n"
   ]
  }
 ],
 "metadata": {},
 "nbformat": 4,
 "nbformat_minor": 5
}
