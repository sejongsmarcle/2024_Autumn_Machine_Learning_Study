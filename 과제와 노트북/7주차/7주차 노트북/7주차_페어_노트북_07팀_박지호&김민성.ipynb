{
  "nbformat": 4,
  "nbformat_minor": 0,
  "metadata": {
    "colab": {
      "provenance": []
    },
    "kernelspec": {
      "name": "python3",
      "display_name": "Python 3"
    },
    "language_info": {
      "name": "python"
    }
  },
  "cells": [
    {
      "cell_type": "code",
      "execution_count": null,
      "metadata": {
        "id": "7SbiLGn2GWYX"
      },
      "outputs": [],
      "source": [
        "from sklearn.datasets import fetch_openml\n",
        "\n",
        "mnist = fetch_openml('mnist_784', as_frame=False)"
      ]
    },
    {
      "cell_type": "code",
      "source": [
        "X, y = mnist.data, mnist.target\n",
        "\n",
        "print(X.shape)\n",
        "print(y.shape)"
      ],
      "metadata": {
        "colab": {
          "base_uri": "https://localhost:8080/"
        },
        "id": "6poF_lUP3CDL",
        "outputId": "e94c192b-2b9a-418c-babb-a7f6d9bd2e54"
      },
      "execution_count": null,
      "outputs": [
        {
          "output_type": "stream",
          "name": "stdout",
          "text": [
            "(70000, 784)\n",
            "(70000,)\n"
          ]
        }
      ]
    },
    {
      "cell_type": "code",
      "source": [
        "X1_train, X1_test, y1_train, y1_test = X[:60000], X[60000:], y[:60000], y[60000:]\n",
        "X1_train, X1_val, y1_train, y1_val = X[:50000], X[50000:], y[:50000], y[50000:]\n",
        "\n",
        "X2_train, X2_test, y2_train, y2_test = X[:60000], X[60000:], y[:60000], y[60000:]\n",
        "X2_train, X2_val, y2_train, y2_val = X[:50000], X[50000:], y[:50000], y[50000:]\n",
        "\n",
        "X3_train, X3_test, y3_train, y3_test = X[:60000], X[60000:], y[:60000], y[60000:]\n",
        "X3_train, X3_val, y3_train, y3_val = X[:50000], X[50000:], y[:50000], y[50000:]"
      ],
      "metadata": {
        "id": "voeGQgDI5dnh"
      },
      "execution_count": null,
      "outputs": []
    },
    {
      "cell_type": "code",
      "source": [
        "from sklearn.ensemble import RandomForestClassifier\n",
        "from sklearn.model_selection import train_test_split\n",
        "from sklearn.metrics import accuracy_score\n",
        "\n",
        "rnd_clf = RandomForestClassifier(n_estimators=500, max_leaf_nodes=16,\n",
        "                                 n_jobs=-1, random_state=42)\n",
        "\n",
        "rnd_clf.fit(X1_train, y1_train)\n",
        "\n",
        "y_pred_rf = rnd_clf.predict(X1_val)\n",
        "\n",
        "accuracy1 = accuracy_score(y1_val, y_pred_rf)\n",
        "print(accuracy1)"
      ],
      "metadata": {
        "colab": {
          "base_uri": "https://localhost:8080/"
        },
        "id": "tQvXOX1A4Ixh",
        "outputId": "1473400a-f9b4-4672-f5b0-1d9a8b93680c"
      },
      "execution_count": null,
      "outputs": [
        {
          "output_type": "stream",
          "name": "stdout",
          "text": [
            "0.83195\n"
          ]
        }
      ]
    },
    {
      "cell_type": "code",
      "source": [
        "from sklearn.ensemble import BaggingClassifier\n",
        "from sklearn.tree import DecisionTreeClassifier\n",
        "\n",
        "bag_clf = BaggingClassifier(\n",
        "    DecisionTreeClassifier(max_features=\"sqrt\", max_leaf_nodes=16, splitter=\"random\"),\n",
        "    n_estimators=300, n_jobs=-1, random_state=42)\n",
        "\n",
        "bag_clf.fit(X2_train, y2_train)\n",
        "\n",
        "y2_pred_rf = bag_clf.predict(X2_val)\n",
        "accuracy2 = accuracy_score(y2_val, y2_pred_rf)\n",
        "\n",
        "print(accuracy2)"
      ],
      "metadata": {
        "colab": {
          "base_uri": "https://localhost:8080/"
        },
        "id": "0Rk5J94C-btZ",
        "outputId": "c9d62682-43a9-4f9c-9512-22a96389face"
      },
      "execution_count": null,
      "outputs": [
        {
          "output_type": "stream",
          "name": "stdout",
          "text": [
            "0.82235\n"
          ]
        }
      ]
    },
    {
      "cell_type": "code",
      "source": [
        "#from sklearn.svm import LinearSVC\n",
        "\n",
        "#svm_clf = LinearSVC(C=1,random_state=42)\n",
        "\n",
        "#svm_clf.fit(X3_train, y3_train)\n",
        "\n",
        "#y3_pred_rf = bag_clf.predict(X3_val)\n",
        "#accuracy3 = accuracy_score(y3_val, y3_pred_rf)\n",
        "\n",
        "#print(accuracy3)"
      ],
      "metadata": {
        "id": "2BlqQfCz_V0Z"
      },
      "execution_count": null,
      "outputs": []
    },
    {
      "cell_type": "code",
      "source": [
        "from sklearn.ensemble import VotingClassifier\n",
        "\n",
        "voting_clf = VotingClassifier(\n",
        "    estimators=[\n",
        "        ('a',accuracy1),\n",
        "        ('b',accuracy2)\n",
        "    ]\n",
        ")\n",
        "#voting_clf.fit(X1_train, y1_train)\n",
        "\n",
        "#voting_clf.score(X1_test, y1_test)\n",
        "\n",
        "print((accuracy1 + accuracy2)/2)\n",
        "# fail"
      ],
      "metadata": {
        "colab": {
          "base_uri": "https://localhost:8080/"
        },
        "id": "_f02PwHqD2UM",
        "outputId": "e07ef1cb-fa51-4c93-9c85-148c0cb204e5"
      },
      "execution_count": null,
      "outputs": [
        {
          "output_type": "stream",
          "name": "stdout",
          "text": [
            "0.82715\n"
          ]
        }
      ]
    },
    {
      "cell_type": "code",
      "source": [],
      "metadata": {
        "id": "louX4aHVIrSE"
      },
      "execution_count": null,
      "outputs": []
    }
  ]
}