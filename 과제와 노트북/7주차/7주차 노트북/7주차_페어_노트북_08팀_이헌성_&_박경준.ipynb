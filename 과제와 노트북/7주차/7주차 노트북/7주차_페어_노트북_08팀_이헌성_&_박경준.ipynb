{
  "nbformat": 4,
  "nbformat_minor": 0,
  "metadata": {
    "colab": {
      "provenance": []
    },
    "kernelspec": {
      "name": "python3",
      "display_name": "Python 3"
    },
    "language_info": {
      "name": "python"
    }
  },
  "cells": [
    {
      "cell_type": "markdown",
      "source": [
        "랜덤 포레스트, 엑스트라 트리, SVM 같은 여러 종류 분류기 훈련. </br>\n",
        "검증 세트에서 간접/직접 투표 방법으로 앙상블 연결.\n",
        "테스트 세트로 확인. </br>\n",
        "08팀 이헌성, 10팀 박경준"
      ],
      "metadata": {
        "id": "m9Psda8j4ZWh"
      }
    },
    {
      "cell_type": "markdown",
      "source": [
        "<출처> </br>\n",
        "1. https://childult-programmer.tistory.com/71\n",
        "2. https://mldlcvmjw.tistory.com/216\n",
        "3. https://diffrentedcon.tistory.com/166\n",
        "4. https://guru.tistory.com/36"
      ],
      "metadata": {
        "id": "gcbUN0PI979g"
      }
    },
    {
      "cell_type": "code",
      "source": [
        "import matplotlib.pyplot as plt\n",
        "import pandas as pd\n",
        "import numpy as np\n",
        "\n",
        "from sklearn import datasets\n",
        "from sklearn import tree\n",
        "from sklearn.ensemble import RandomForestClassifier, ExtraTreesClassifier\n",
        "from sklearn.svm import LinearSVC"
      ],
      "metadata": {
        "id": "esV2LdsL4_wQ"
      },
      "execution_count": 16,
      "outputs": []
    },
    {
      "cell_type": "code",
      "execution_count": 17,
      "metadata": {
        "id": "fZMRMwko2f3f"
      },
      "outputs": [],
      "source": [
        "from sklearn.datasets import fetch_openml\n",
        "\n",
        "mnist = fetch_openml('mnist_784', as_frame=False)"
      ]
    },
    {
      "cell_type": "code",
      "source": [
        "# train에 50,000개 샘플, test에 10,000개 샘플. (검증에 10,000개 샘플)\n",
        "from sklearn.model_selection import train_test_split\n",
        "\n",
        "X_train_val,X_test,y_train_val,y_test=train_test_split(\n",
        "    mnist.data,mnist.target,test_size=10000,random_state=42\n",
        ")\n",
        "\n",
        "X_train,X_val,y_train,y_val=train_test_split(\n",
        "    X_train_val,y_train_val,test_size=10000,random_state=42\n",
        ")"
      ],
      "metadata": {
        "id": "g7ATuqMf3cst"
      },
      "execution_count": 18,
      "outputs": []
    },
    {
      "cell_type": "code",
      "source": [
        "random_forest_clf = RandomForestClassifier(n_estimators=100, random_state=42)\n",
        "extra_trees_clf = ExtraTreesClassifier(n_estimators=100, random_state=42)\n",
        "svm_clf = LinearSVC(max_iter=100, tol=20, random_state=42)"
      ],
      "metadata": {
        "id": "Mh2siBb130v4"
      },
      "execution_count": 19,
      "outputs": []
    },
    {
      "cell_type": "code",
      "source": [
        "estimators = [random_forest_clf, extra_trees_clf, svm_clf]\n",
        "for estimator in estimators:\n",
        "  print('Training: ', estimator)\n",
        "  estimator.fit(X_train, y_train)"
      ],
      "metadata": {
        "colab": {
          "base_uri": "https://localhost:8080/"
        },
        "id": "Pc7o-xNY78zP",
        "outputId": "3723536e-c382-48c1-af98-732a321c3fd5"
      },
      "execution_count": 20,
      "outputs": [
        {
          "output_type": "stream",
          "name": "stdout",
          "text": [
            "Training:  RandomForestClassifier(random_state=42)\n",
            "Training:  ExtraTreesClassifier(random_state=42)\n",
            "Training:  LinearSVC(max_iter=100, random_state=42, tol=20)\n"
          ]
        }
      ]
    },
    {
      "cell_type": "code",
      "source": [
        "for estimator in estimators:\n",
        "  print(estimator.score(X_val, y_val))"
      ],
      "metadata": {
        "colab": {
          "base_uri": "https://localhost:8080/"
        },
        "id": "77WvpacH89Du",
        "outputId": "7da8eea7-442b-43a0-f5fc-fc3edd57d8db"
      },
      "execution_count": 21,
      "outputs": [
        {
          "output_type": "stream",
          "name": "stdout",
          "text": [
            "0.9692\n",
            "0.9715\n",
            "0.0997\n"
          ]
        }
      ]
    },
    {
      "cell_type": "code",
      "source": [
        "# 직접 투표\n",
        "from sklearn.ensemble import VotingClassifier\n",
        "\n",
        "named_estimators = [\n",
        "    (\"rf\", random_forest_clf),\n",
        "    (\"et\", extra_trees_clf),\n",
        "    (\"svm\", svm_clf),\n",
        "]\n",
        "\n",
        "voting_clf = VotingClassifier(named_estimators)\n",
        "\n",
        "voting_clf.fit(X_train, y_train)\n",
        "\n",
        "voting_clf.score(X_val, y_val)"
      ],
      "metadata": {
        "colab": {
          "base_uri": "https://localhost:8080/"
        },
        "id": "0B-3ZutT-Tub",
        "outputId": "2186bb3d-ca45-49b4-e2af-2dcb8bd970b2"
      },
      "execution_count": 22,
      "outputs": [
        {
          "output_type": "execute_result",
          "data": {
            "text/plain": [
              "0.9642"
            ]
          },
          "metadata": {},
          "execution_count": 22
        }
      ]
    },
    {
      "cell_type": "code",
      "source": [
        "# svm 별로여서 제거\n",
        "voting_clf.set_params(svm=None)\n",
        "del voting_clf.estimators_[2]\n",
        "voting_clf.voting='soft'\n",
        "voting_clf.score(X_val,y_val)"
      ],
      "metadata": {
        "colab": {
          "base_uri": "https://localhost:8080/"
        },
        "id": "7BwZiyKtElqv",
        "outputId": "8a95d401-3d20-4801-b71d-b96d7d7ca1fc"
      },
      "execution_count": 23,
      "outputs": [
        {
          "output_type": "execute_result",
          "data": {
            "text/plain": [
              "0.9719"
            ]
          },
          "metadata": {},
          "execution_count": 23
        }
      ]
    },
    {
      "cell_type": "code",
      "source": [
        "voting_clf.score(X_test,y_test)"
      ],
      "metadata": {
        "colab": {
          "base_uri": "https://localhost:8080/"
        },
        "id": "cBXdA3izFr2O",
        "outputId": "c126ac92-3d4c-4962-a94d-f033464dcc0d"
      },
      "execution_count": 24,
      "outputs": [
        {
          "output_type": "execute_result",
          "data": {
            "text/plain": [
              "0.9681"
            ]
          },
          "metadata": {},
          "execution_count": 24
        }
      ]
    }
  ]
}