{
  "nbformat": 4,
  "nbformat_minor": 0,
  "metadata": {
    "colab": {
      "provenance": []
    },
    "kernelspec": {
      "name": "python3",
      "display_name": "Python 3"
    },
    "language_info": {
      "name": "python"
    }
  },
  "cells": [
    {
      "cell_type": "code",
      "source": [
        "from pathlib import Path\n",
        "\n",
        "IMAGES_PATH = Path() / \"images\" / \"unsupervised_learning\"\n",
        "IMAGES_PATH.mkdir(parents=True, exist_ok=True)\n",
        "\n",
        "def save_fig(fig_id, tight_layout=True, fig_extension=\"png\", resolution=300):\n",
        "    path = IMAGES_PATH / f\"{fig_id}.{fig_extension}\"\n",
        "    if tight_layout:\n",
        "        plt.tight_layout()\n",
        "    plt.savefig(path, format=fig_extension, dpi=resolution)"
      ],
      "metadata": {
        "id": "oskZqp_nGgsN"
      },
      "execution_count": 12,
      "outputs": []
    },
    {
      "cell_type": "code",
      "execution_count": 13,
      "metadata": {
        "id": "0pL8yaAi_KRF"
      },
      "outputs": [],
      "source": [
        "from sklearn.datasets import fetch_olivetti_faces\n",
        "\n",
        "olivetti = fetch_olivetti_faces()"
      ]
    },
    {
      "cell_type": "code",
      "source": [
        "from sklearn.model_selection import StratifiedShuffleSplit\n",
        "\n",
        "strat_split = StratifiedShuffleSplit(n_splits=1, test_size=40, random_state=42)\n",
        "train_valid_idx, test_idx = next(strat_split.split(olivetti.data,\n",
        "                                                   olivetti.target))\n",
        "X_train_valid = olivetti.data[train_valid_idx]\n",
        "y_train_valid = olivetti.target[train_valid_idx]\n",
        "X_test = olivetti.data[test_idx]\n",
        "y_test = olivetti.target[test_idx]\n",
        "\n",
        "strat_split = StratifiedShuffleSplit(n_splits=1, test_size=80, random_state=43)\n",
        "train_idx, valid_idx = next(strat_split.split(X_train_valid, y_train_valid))\n",
        "X_train = X_train_valid[train_idx]\n",
        "y_train = y_train_valid[train_idx]\n",
        "X_valid = X_train_valid[valid_idx]\n",
        "y_valid = y_train_valid[valid_idx]"
      ],
      "metadata": {
        "id": "cTwQrZAL_7wv"
      },
      "execution_count": 14,
      "outputs": []
    },
    {
      "cell_type": "code",
      "source": [
        "import numpy as np\n",
        "import matplotlib.pyplot as plt\n",
        "from sklearn.cluster import KMeans\n",
        "from sklearn.datasets import make_blobs"
      ],
      "metadata": {
        "id": "JqqA9g-vB37T"
      },
      "execution_count": 26,
      "outputs": []
    },
    {
      "cell_type": "code",
      "source": [
        "# 추가 코드 - 이 셀은 그림 9-8을 생성하고 저장합니다.\n",
        "\n",
        "kmeans_per_k = [KMeans(n_clusters=k, n_init=10, random_state=42).fit(X_train)\n",
        "                for k in range(1, 10)]\n",
        "inertias = [model.inertia_ for model in kmeans_per_k]\n",
        "\n",
        "plt.figure(figsize=(8, 3.5))\n",
        "plt.plot(range(1, 10), inertias, \"bo-\")\n",
        "plt.xlabel(\"$k$\")\n",
        "plt.ylabel(\"이너셔\")\n",
        "plt.annotate(\"\", xy=(4, inertias[3]), xytext=(4.45, 650),\n",
        "             arrowprops=dict(facecolor='black', shrink=0.1))\n",
        "plt.text(4.5, 650, \"엘보\", horizontalalignment=\"center\")\n",
        "plt.axis([1, 8.5, 0, 1300])\n",
        "plt.grid()\n",
        "save_fig(\"inertia_vs_k_plot\")\n",
        "plt.show()"
      ],
      "metadata": {
        "colab": {
          "base_uri": "https://localhost:8080/",
          "height": 923
        },
        "id": "sBHfJBXrEtyu",
        "outputId": "61d13e68-288c-4b52-c88b-a4095baae6f6"
      },
      "execution_count": 32,
      "outputs": [
        {
          "output_type": "stream",
          "name": "stderr",
          "text": [
            "<ipython-input-12-e9dea4eeedb6>:9: UserWarning: Glyph 51060 (\\N{HANGUL SYLLABLE I}) missing from current font.\n",
            "  plt.tight_layout()\n",
            "<ipython-input-12-e9dea4eeedb6>:9: UserWarning: Glyph 45320 (\\N{HANGUL SYLLABLE NEO}) missing from current font.\n",
            "  plt.tight_layout()\n",
            "<ipython-input-12-e9dea4eeedb6>:9: UserWarning: Glyph 49492 (\\N{HANGUL SYLLABLE SYEO}) missing from current font.\n",
            "  plt.tight_layout()\n",
            "<ipython-input-12-e9dea4eeedb6>:9: UserWarning: Glyph 50648 (\\N{HANGUL SYLLABLE EL}) missing from current font.\n",
            "  plt.tight_layout()\n",
            "<ipython-input-12-e9dea4eeedb6>:9: UserWarning: Glyph 48372 (\\N{HANGUL SYLLABLE BO}) missing from current font.\n",
            "  plt.tight_layout()\n",
            "<ipython-input-12-e9dea4eeedb6>:10: UserWarning: Glyph 51060 (\\N{HANGUL SYLLABLE I}) missing from current font.\n",
            "  plt.savefig(path, format=fig_extension, dpi=resolution)\n",
            "<ipython-input-12-e9dea4eeedb6>:10: UserWarning: Glyph 45320 (\\N{HANGUL SYLLABLE NEO}) missing from current font.\n",
            "  plt.savefig(path, format=fig_extension, dpi=resolution)\n",
            "<ipython-input-12-e9dea4eeedb6>:10: UserWarning: Glyph 49492 (\\N{HANGUL SYLLABLE SYEO}) missing from current font.\n",
            "  plt.savefig(path, format=fig_extension, dpi=resolution)\n",
            "<ipython-input-12-e9dea4eeedb6>:10: UserWarning: Glyph 50648 (\\N{HANGUL SYLLABLE EL}) missing from current font.\n",
            "  plt.savefig(path, format=fig_extension, dpi=resolution)\n",
            "<ipython-input-12-e9dea4eeedb6>:10: UserWarning: Glyph 48372 (\\N{HANGUL SYLLABLE BO}) missing from current font.\n",
            "  plt.savefig(path, format=fig_extension, dpi=resolution)\n",
            "/usr/local/lib/python3.10/dist-packages/IPython/core/pylabtools.py:151: UserWarning: Glyph 51060 (\\N{HANGUL SYLLABLE I}) missing from current font.\n",
            "  fig.canvas.print_figure(bytes_io, **kw)\n",
            "/usr/local/lib/python3.10/dist-packages/IPython/core/pylabtools.py:151: UserWarning: Glyph 45320 (\\N{HANGUL SYLLABLE NEO}) missing from current font.\n",
            "  fig.canvas.print_figure(bytes_io, **kw)\n",
            "/usr/local/lib/python3.10/dist-packages/IPython/core/pylabtools.py:151: UserWarning: Glyph 49492 (\\N{HANGUL SYLLABLE SYEO}) missing from current font.\n",
            "  fig.canvas.print_figure(bytes_io, **kw)\n",
            "/usr/local/lib/python3.10/dist-packages/IPython/core/pylabtools.py:151: UserWarning: Glyph 50648 (\\N{HANGUL SYLLABLE EL}) missing from current font.\n",
            "  fig.canvas.print_figure(bytes_io, **kw)\n",
            "/usr/local/lib/python3.10/dist-packages/IPython/core/pylabtools.py:151: UserWarning: Glyph 48372 (\\N{HANGUL SYLLABLE BO}) missing from current font.\n",
            "  fig.canvas.print_figure(bytes_io, **kw)\n"
          ]
        },
        {
          "output_type": "display_data",
          "data": {
            "text/plain": [
              "<Figure size 800x350 with 1 Axes>"
            ],
            "image/png": "[encoded data removed]"
          },
          "metadata": {}
        }
      ]
    },
    {
      "cell_type": "code",
      "source": [
        "from sklearn.metrics import silhouette_score"
      ],
      "metadata": {
        "id": "MtbVK1b_GxNk"
      },
      "execution_count": 23,
      "outputs": []
    },
    {
      "cell_type": "code",
      "source": [
        "# 추가 코드 - 이 셀은 그림 9-9를 생성하고 저장합니다.\n",
        "\n",
        "silhouette_scores = [silhouette_score(X_train, model.labels_)\n",
        "                     for model in kmeans_per_k[1:]]\n",
        "\n",
        "plt.figure(figsize=(8, 3))\n",
        "plt.plot(range(2, 10), silhouette_scores, \"bo-\")\n",
        "plt.xlabel(\"$k$\")\n",
        "plt.ylabel(\"실루엣 점수\")\n",
        "plt.axis([1.8, 8.5, 0.55, 0.7])\n",
        "plt.grid()\n",
        "save_fig(\"silhouette_score_vs_k_plot\")\n",
        "plt.show()"
      ],
      "metadata": {
        "colab": {
          "base_uri": "https://localhost:8080/",
          "height": 873
        },
        "id": "9oTPoWz0JO19",
        "outputId": "518cd85d-926f-4994-9bf4-3f3c7836d273"
      },
      "execution_count": 33,
      "outputs": [
        {
          "output_type": "stream",
          "name": "stderr",
          "text": [
            "<ipython-input-12-e9dea4eeedb6>:9: UserWarning: Glyph 49892 (\\N{HANGUL SYLLABLE SIL}) missing from current font.\n",
            "  plt.tight_layout()\n",
            "<ipython-input-12-e9dea4eeedb6>:9: UserWarning: Glyph 47336 (\\N{HANGUL SYLLABLE RU}) missing from current font.\n",
            "  plt.tight_layout()\n",
            "<ipython-input-12-e9dea4eeedb6>:9: UserWarning: Glyph 50659 (\\N{HANGUL SYLLABLE ES}) missing from current font.\n",
            "  plt.tight_layout()\n",
            "<ipython-input-12-e9dea4eeedb6>:9: UserWarning: Glyph 51216 (\\N{HANGUL SYLLABLE JEOM}) missing from current font.\n",
            "  plt.tight_layout()\n",
            "<ipython-input-12-e9dea4eeedb6>:9: UserWarning: Glyph 49688 (\\N{HANGUL SYLLABLE SU}) missing from current font.\n",
            "  plt.tight_layout()\n",
            "<ipython-input-12-e9dea4eeedb6>:10: UserWarning: Glyph 49892 (\\N{HANGUL SYLLABLE SIL}) missing from current font.\n",
            "  plt.savefig(path, format=fig_extension, dpi=resolution)\n",
            "<ipython-input-12-e9dea4eeedb6>:10: UserWarning: Glyph 47336 (\\N{HANGUL SYLLABLE RU}) missing from current font.\n",
            "  plt.savefig(path, format=fig_extension, dpi=resolution)\n",
            "<ipython-input-12-e9dea4eeedb6>:10: UserWarning: Glyph 50659 (\\N{HANGUL SYLLABLE ES}) missing from current font.\n",
            "  plt.savefig(path, format=fig_extension, dpi=resolution)\n",
            "<ipython-input-12-e9dea4eeedb6>:10: UserWarning: Glyph 51216 (\\N{HANGUL SYLLABLE JEOM}) missing from current font.\n",
            "  plt.savefig(path, format=fig_extension, dpi=resolution)\n",
            "<ipython-input-12-e9dea4eeedb6>:10: UserWarning: Glyph 49688 (\\N{HANGUL SYLLABLE SU}) missing from current font.\n",
            "  plt.savefig(path, format=fig_extension, dpi=resolution)\n",
            "/usr/local/lib/python3.10/dist-packages/IPython/core/pylabtools.py:151: UserWarning: Glyph 49892 (\\N{HANGUL SYLLABLE SIL}) missing from current font.\n",
            "  fig.canvas.print_figure(bytes_io, **kw)\n",
            "/usr/local/lib/python3.10/dist-packages/IPython/core/pylabtools.py:151: UserWarning: Glyph 47336 (\\N{HANGUL SYLLABLE RU}) missing from current font.\n",
            "  fig.canvas.print_figure(bytes_io, **kw)\n",
            "/usr/local/lib/python3.10/dist-packages/IPython/core/pylabtools.py:151: UserWarning: Glyph 50659 (\\N{HANGUL SYLLABLE ES}) missing from current font.\n",
            "  fig.canvas.print_figure(bytes_io, **kw)\n",
            "/usr/local/lib/python3.10/dist-packages/IPython/core/pylabtools.py:151: UserWarning: Glyph 51216 (\\N{HANGUL SYLLABLE JEOM}) missing from current font.\n",
            "  fig.canvas.print_figure(bytes_io, **kw)\n",
            "/usr/local/lib/python3.10/dist-packages/IPython/core/pylabtools.py:151: UserWarning: Glyph 49688 (\\N{HANGUL SYLLABLE SU}) missing from current font.\n",
            "  fig.canvas.print_figure(bytes_io, **kw)\n"
          ]
        },
        {
          "output_type": "display_data",
          "data": {
            "text/plain": [
              "<Figure size 800x300 with 1 Axes>"
            ],
            "image/png": "[encoded data removed]"
          },
          "metadata": {}
        }
      ]
    },
    {
      "cell_type": "code",
      "source": [
        "print(kmeans_per_k)\n",
        "print(silhouette_scores)"
      ],
      "metadata": {
        "colab": {
          "base_uri": "https://localhost:8080/"
        },
        "id": "ZSGm2itHKMxP",
        "outputId": "a84b283e-0c9f-4c88-f2be-418d518f667f"
      },
      "execution_count": 37,
      "outputs": [
        {
          "output_type": "stream",
          "name": "stdout",
          "text": [
            "[KMeans(n_clusters=1, n_init=10, random_state=42), KMeans(n_clusters=2, n_init=10, random_state=42), KMeans(n_clusters=3, n_init=10, random_state=42), KMeans(n_clusters=4, n_init=10, random_state=42), KMeans(n_clusters=5, n_init=10, random_state=42), KMeans(n_clusters=6, n_init=10, random_state=42), KMeans(n_clusters=7, n_init=10, random_state=42), KMeans(n_init=10, random_state=42), KMeans(n_clusters=9, n_init=10, random_state=42)]\n",
            "[0.15179649, 0.12265265, 0.113990605, 0.108580135, 0.09737217, 0.10249914, 0.08812606, 0.10600769]\n"
          ]
        }
      ]
    },
    {
      "cell_type": "code",
      "source": [
        "plt.plot(range(2, 10), silhouette_scores)\n",
        "plt.show()"
      ],
      "metadata": {
        "colab": {
          "base_uri": "https://localhost:8080/",
          "height": 430
        },
        "id": "mn9rtMQjLBN7",
        "outputId": "f0d08cfb-a809-49c5-90dc-6fab761759f1"
      },
      "execution_count": 36,
      "outputs": [
        {
          "output_type": "display_data",
          "data": {
            "text/plain": [
              "<Figure size 640x480 with 1 Axes>"
            ],
            "image/png": "[encoded data removed]"
          },
          "metadata": {}
        }
      ]
    },
    {
      "cell_type": "code",
      "source": [
        "from sklearn.cluster import KMeans\n",
        "\n",
        "k = 2\n",
        "kmeans = KMeans(n_clusters=k, n_init=10, random_state=42)\n",
        "y_pred = kmeans.fit_predict(X_train)"
      ],
      "metadata": {
        "id": "c_iSPWpDNh1R"
      },
      "execution_count": 38,
      "outputs": []
    },
    {
      "cell_type": "code",
      "source": [
        "from sklearn.metrics import silhouette_score\n",
        "\n",
        "silhouette_score(X_train, kmeans.labels_)"
      ],
      "metadata": {
        "colab": {
          "base_uri": "https://localhost:8080/"
        },
        "id": "NLsacJoTNySU",
        "outputId": "23a1f5cd-6026-4c34-e9d6-b2656fc38ea1"
      },
      "execution_count": 39,
      "outputs": [
        {
          "output_type": "execute_result",
          "data": {
            "text/plain": [
              "0.15179649"
            ]
          },
          "metadata": {},
          "execution_count": 39
        }
      ]
    },
    {
      "cell_type": "code",
      "source": [
        "from sklearn.decomposition import PCA\n",
        "\n",
        "pca = PCA(0.99)\n",
        "X_train_pca = pca.fit_transform(X_train)\n",
        "X_valid_pca = pca.transform(X_valid)\n",
        "X_test_pca = pca.transform(X_test)\n",
        "\n",
        "pca.n_components_"
      ],
      "metadata": {
        "colab": {
          "base_uri": "https://localhost:8080/"
        },
        "id": "v_wghwrsAwkl",
        "outputId": "8e50bd39-09c4-4a6d-945e-a80dd9c9fa2a"
      },
      "execution_count": 3,
      "outputs": [
        {
          "output_type": "execute_result",
          "data": {
            "text/plain": [
              "199"
            ]
          },
          "metadata": {},
          "execution_count": 3
        }
      ]
    }
  ]
}